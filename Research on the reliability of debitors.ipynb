{
 "cells": [
  {
   "cell_type": "markdown",
   "id": "c81daeeb",
   "metadata": {
    "deletable": false,
    "id": "c81daeeb"
   },
   "source": [
    "# Research on reliability of debitors\n"
   ]
  },
  {
   "cell_type": "markdown",
   "id": "ada2a11b",
   "metadata": {},
   "source": [
    "The customer is the credit department of the bank. It is necessary to figure out whether the marital status, number of children, education and goals of the client's loan affect the fact that the loan is repaid on time. Input data from the bank — statistics on the solvency of customers.\n",
    "The results of the research will be taken while we building a credit scoring model — a special system that evaluates the ability of a potential borrower to repay a loan to a bank."
   ]
  },
  {
   "cell_type": "markdown",
   "id": "372c720d",
   "metadata": {},
   "source": [
    "Let's import all the necessary libraries, open data source file, and take a look on our data:\n"
   ]
  },
  {
   "cell_type": "code",
   "execution_count": 2,
   "id": "e6bad8ad",
   "metadata": {},
   "outputs": [],
   "source": [
    "import pandas as pd\n",
    "from IPython.display import display\n",
    "from pandas.api.types import CategoricalDtype\n",
    "import numpy as np\n",
    "from tqdm import tqdm\n",
    "tqdm.pandas(desc=\"Рассчитано\")\n",
    "pd.options.display.float_format = \"{:,.2f}\".format"
   ]
  },
  {
   "cell_type": "code",
   "execution_count": 3,
   "id": "7bcf75c9",
   "metadata": {
    "ExecuteTime": {
     "end_time": "2022-06-07T20:27:50.335724Z",
     "start_time": "2022-06-07T20:27:49.857248Z"
    },
    "deletable": false,
    "id": "7bcf75c9"
   },
   "outputs": [
    {
     "name": "stdout",
     "output_type": "stream",
     "text": [
      "<class 'pandas.core.frame.DataFrame'>\n",
      "RangeIndex: 21525 entries, 0 to 21524\n",
      "Data columns (total 12 columns):\n",
      " #   Column            Non-Null Count  Dtype  \n",
      "---  ------            --------------  -----  \n",
      " 0   children          21525 non-null  int64  \n",
      " 1   days_employed     19351 non-null  float64\n",
      " 2   dob_years         21525 non-null  int64  \n",
      " 3   education         21525 non-null  object \n",
      " 4   education_id      21525 non-null  int64  \n",
      " 5   family_status     21525 non-null  object \n",
      " 6   family_status_id  21525 non-null  int64  \n",
      " 7   gender            21525 non-null  object \n",
      " 8   income_type       21525 non-null  object \n",
      " 9   debt              21525 non-null  int64  \n",
      " 10  total_income      19351 non-null  float64\n",
      " 11  purpose           21525 non-null  object \n",
      "dtypes: float64(2), int64(5), object(5)\n",
      "memory usage: 2.0+ MB\n",
      "None\n"
     ]
    },
    {
     "data": {
      "text/html": [
       "<div>\n",
       "<style scoped>\n",
       "    .dataframe tbody tr th:only-of-type {\n",
       "        vertical-align: middle;\n",
       "    }\n",
       "\n",
       "    .dataframe tbody tr th {\n",
       "        vertical-align: top;\n",
       "    }\n",
       "\n",
       "    .dataframe thead th {\n",
       "        text-align: right;\n",
       "    }\n",
       "</style>\n",
       "<table border=\"1\" class=\"dataframe\">\n",
       "  <thead>\n",
       "    <tr style=\"text-align: right;\">\n",
       "      <th></th>\n",
       "      <th>children</th>\n",
       "      <th>days_employed</th>\n",
       "      <th>dob_years</th>\n",
       "      <th>education</th>\n",
       "      <th>education_id</th>\n",
       "      <th>family_status</th>\n",
       "      <th>family_status_id</th>\n",
       "      <th>gender</th>\n",
       "      <th>income_type</th>\n",
       "      <th>debt</th>\n",
       "      <th>total_income</th>\n",
       "      <th>purpose</th>\n",
       "    </tr>\n",
       "  </thead>\n",
       "  <tbody>\n",
       "    <tr>\n",
       "      <th>0</th>\n",
       "      <td>1</td>\n",
       "      <td>-8,437.67</td>\n",
       "      <td>42</td>\n",
       "      <td>высшее</td>\n",
       "      <td>0</td>\n",
       "      <td>женат / замужем</td>\n",
       "      <td>0</td>\n",
       "      <td>F</td>\n",
       "      <td>сотрудник</td>\n",
       "      <td>0</td>\n",
       "      <td>253,875.64</td>\n",
       "      <td>покупка жилья</td>\n",
       "    </tr>\n",
       "    <tr>\n",
       "      <th>1</th>\n",
       "      <td>1</td>\n",
       "      <td>-4,024.80</td>\n",
       "      <td>36</td>\n",
       "      <td>среднее</td>\n",
       "      <td>1</td>\n",
       "      <td>женат / замужем</td>\n",
       "      <td>0</td>\n",
       "      <td>F</td>\n",
       "      <td>сотрудник</td>\n",
       "      <td>0</td>\n",
       "      <td>112,080.01</td>\n",
       "      <td>приобретение автомобиля</td>\n",
       "    </tr>\n",
       "    <tr>\n",
       "      <th>2</th>\n",
       "      <td>0</td>\n",
       "      <td>-5,623.42</td>\n",
       "      <td>33</td>\n",
       "      <td>Среднее</td>\n",
       "      <td>1</td>\n",
       "      <td>женат / замужем</td>\n",
       "      <td>0</td>\n",
       "      <td>M</td>\n",
       "      <td>сотрудник</td>\n",
       "      <td>0</td>\n",
       "      <td>145,885.95</td>\n",
       "      <td>покупка жилья</td>\n",
       "    </tr>\n",
       "    <tr>\n",
       "      <th>3</th>\n",
       "      <td>3</td>\n",
       "      <td>-4,124.75</td>\n",
       "      <td>32</td>\n",
       "      <td>среднее</td>\n",
       "      <td>1</td>\n",
       "      <td>женат / замужем</td>\n",
       "      <td>0</td>\n",
       "      <td>M</td>\n",
       "      <td>сотрудник</td>\n",
       "      <td>0</td>\n",
       "      <td>267,628.55</td>\n",
       "      <td>дополнительное образование</td>\n",
       "    </tr>\n",
       "    <tr>\n",
       "      <th>4</th>\n",
       "      <td>0</td>\n",
       "      <td>340,266.07</td>\n",
       "      <td>53</td>\n",
       "      <td>среднее</td>\n",
       "      <td>1</td>\n",
       "      <td>гражданский брак</td>\n",
       "      <td>1</td>\n",
       "      <td>F</td>\n",
       "      <td>пенсионер</td>\n",
       "      <td>0</td>\n",
       "      <td>158,616.08</td>\n",
       "      <td>сыграть свадьбу</td>\n",
       "    </tr>\n",
       "    <tr>\n",
       "      <th>5</th>\n",
       "      <td>0</td>\n",
       "      <td>-926.19</td>\n",
       "      <td>27</td>\n",
       "      <td>высшее</td>\n",
       "      <td>0</td>\n",
       "      <td>гражданский брак</td>\n",
       "      <td>1</td>\n",
       "      <td>M</td>\n",
       "      <td>компаньон</td>\n",
       "      <td>0</td>\n",
       "      <td>255,763.57</td>\n",
       "      <td>покупка жилья</td>\n",
       "    </tr>\n",
       "    <tr>\n",
       "      <th>6</th>\n",
       "      <td>0</td>\n",
       "      <td>-2,879.20</td>\n",
       "      <td>43</td>\n",
       "      <td>высшее</td>\n",
       "      <td>0</td>\n",
       "      <td>женат / замужем</td>\n",
       "      <td>0</td>\n",
       "      <td>F</td>\n",
       "      <td>компаньон</td>\n",
       "      <td>0</td>\n",
       "      <td>240,525.97</td>\n",
       "      <td>операции с жильем</td>\n",
       "    </tr>\n",
       "    <tr>\n",
       "      <th>7</th>\n",
       "      <td>0</td>\n",
       "      <td>-152.78</td>\n",
       "      <td>50</td>\n",
       "      <td>СРЕДНЕЕ</td>\n",
       "      <td>1</td>\n",
       "      <td>женат / замужем</td>\n",
       "      <td>0</td>\n",
       "      <td>M</td>\n",
       "      <td>сотрудник</td>\n",
       "      <td>0</td>\n",
       "      <td>135,823.93</td>\n",
       "      <td>образование</td>\n",
       "    </tr>\n",
       "    <tr>\n",
       "      <th>8</th>\n",
       "      <td>2</td>\n",
       "      <td>-6,929.87</td>\n",
       "      <td>35</td>\n",
       "      <td>ВЫСШЕЕ</td>\n",
       "      <td>0</td>\n",
       "      <td>гражданский брак</td>\n",
       "      <td>1</td>\n",
       "      <td>F</td>\n",
       "      <td>сотрудник</td>\n",
       "      <td>0</td>\n",
       "      <td>95,856.83</td>\n",
       "      <td>на проведение свадьбы</td>\n",
       "    </tr>\n",
       "    <tr>\n",
       "      <th>9</th>\n",
       "      <td>0</td>\n",
       "      <td>-2,188.76</td>\n",
       "      <td>41</td>\n",
       "      <td>среднее</td>\n",
       "      <td>1</td>\n",
       "      <td>женат / замужем</td>\n",
       "      <td>0</td>\n",
       "      <td>M</td>\n",
       "      <td>сотрудник</td>\n",
       "      <td>0</td>\n",
       "      <td>144,425.94</td>\n",
       "      <td>покупка жилья для семьи</td>\n",
       "    </tr>\n",
       "  </tbody>\n",
       "</table>\n",
       "</div>"
      ],
      "text/plain": [
       "   children  days_employed  dob_years education  education_id  \\\n",
       "0         1      -8,437.67         42    высшее             0   \n",
       "1         1      -4,024.80         36   среднее             1   \n",
       "2         0      -5,623.42         33   Среднее             1   \n",
       "3         3      -4,124.75         32   среднее             1   \n",
       "4         0     340,266.07         53   среднее             1   \n",
       "5         0        -926.19         27    высшее             0   \n",
       "6         0      -2,879.20         43    высшее             0   \n",
       "7         0        -152.78         50   СРЕДНЕЕ             1   \n",
       "8         2      -6,929.87         35    ВЫСШЕЕ             0   \n",
       "9         0      -2,188.76         41   среднее             1   \n",
       "\n",
       "      family_status  family_status_id gender income_type  debt  total_income  \\\n",
       "0   женат / замужем                 0      F   сотрудник     0    253,875.64   \n",
       "1   женат / замужем                 0      F   сотрудник     0    112,080.01   \n",
       "2   женат / замужем                 0      M   сотрудник     0    145,885.95   \n",
       "3   женат / замужем                 0      M   сотрудник     0    267,628.55   \n",
       "4  гражданский брак                 1      F   пенсионер     0    158,616.08   \n",
       "5  гражданский брак                 1      M   компаньон     0    255,763.57   \n",
       "6   женат / замужем                 0      F   компаньон     0    240,525.97   \n",
       "7   женат / замужем                 0      M   сотрудник     0    135,823.93   \n",
       "8  гражданский брак                 1      F   сотрудник     0     95,856.83   \n",
       "9   женат / замужем                 0      M   сотрудник     0    144,425.94   \n",
       "\n",
       "                      purpose  \n",
       "0               покупка жилья  \n",
       "1     приобретение автомобиля  \n",
       "2               покупка жилья  \n",
       "3  дополнительное образование  \n",
       "4             сыграть свадьбу  \n",
       "5               покупка жилья  \n",
       "6           операции с жильем  \n",
       "7                 образование  \n",
       "8       на проведение свадьбы  \n",
       "9     покупка жилья для семьи  "
      ]
     },
     "execution_count": 3,
     "metadata": {},
     "output_type": "execute_result"
    }
   ],
   "source": [
    "data = pd.read_csv('./datasets/data.csv')\n",
    "print(data.info())\n",
    "data.head(10)"
   ]
  },
  {
   "cell_type": "markdown",
   "id": "2f55e1ce",
   "metadata": {},
   "source": [
    "We can see strange data in a column named `days_employed` - values are negative, and we need to change it to positive. The `education` column contains rows in different registers with the types of education, so let's convert them to the same register. After that, we can change the data in the `family_status` column, because we need to know whether our debtor is married, in an informal relationship, or widowed/divorced. And we will also make some changes to the data in the `purpore` column: we will conduct a lexical research about the purpose of the loan, find and assign typical categories for each purpose. After basic research, we will try to expand our analysis by adding a check of the relationship between the probability of debt repayment and years spent at work. To do this, it will be nice to recalculate the days from the column into years.<br>\n",
    "\n",
    "In our research such data as `education_id`, `family_status_id`, `gender` will not be needed. Just drop it.\n",
    "\n",
    "Some columns we will only need to substitute data in other columns. There are `dob_year` and `income_type`."
   ]
  },
  {
   "cell_type": "markdown",
   "id": "49360356",
   "metadata": {},
   "source": [
    "Let's check, how many NaNs do we have in data?"
   ]
  },
  {
   "cell_type": "code",
   "execution_count": 4,
   "id": "7f9b2309",
   "metadata": {
    "ExecuteTime": {
     "end_time": "2022-06-07T20:27:50.373356Z",
     "start_time": "2022-06-07T20:27:50.366044Z"
    },
    "deletable": false,
    "id": "7f9b2309",
    "outputId": "81f4d817-781c-465c-ed15-91ce4446810d"
   },
   "outputs": [
    {
     "data": {
      "text/plain": [
       "children               0\n",
       "days_employed       2174\n",
       "dob_years              0\n",
       "education              0\n",
       "education_id           0\n",
       "family_status          0\n",
       "family_status_id       0\n",
       "gender                 0\n",
       "income_type            0\n",
       "debt                   0\n",
       "total_income        2174\n",
       "purpose                0\n",
       "dtype: int64"
      ]
     },
     "execution_count": 4,
     "metadata": {},
     "output_type": "execute_result"
    }
   ],
   "source": [
    "data.isna().sum()"
   ]
  },
  {
   "cell_type": "markdown",
   "id": "c1517cf5",
   "metadata": {},
   "source": [
    "There are two columns in dataframe: `days_employed` and `total_income` with NaNs. We can subusitiute omissions in `total_income` by median value of grouped data by type in `income_type` field. Before that, we must make sure, that all values in column `income_type` are valid."
   ]
  },
  {
   "cell_type": "code",
   "execution_count": 5,
   "id": "42006a93",
   "metadata": {
    "ExecuteTime": {
     "end_time": "2022-06-07T20:27:50.401157Z",
     "start_time": "2022-06-07T20:27:50.374581Z"
    },
    "deletable": false,
    "id": "42006a93"
   },
   "outputs": [
    {
     "data": {
      "text/plain": [
       "сотрудник          11119\n",
       "компаньон           5085\n",
       "пенсионер           3856\n",
       "госслужащий         1459\n",
       "безработный            2\n",
       "предприниматель        2\n",
       "студент                1\n",
       "в декрете              1\n",
       "Name: income_type, dtype: int64"
      ]
     },
     "execution_count": 5,
     "metadata": {},
     "output_type": "execute_result"
    }
   ],
   "source": [
    "data.income_type.value_counts()"
   ]
  },
  {
   "cell_type": "markdown",
   "id": "081e78f3",
   "metadata": {},
   "source": [
    "Well, since we don't have invalid or duplicate values, we can group the data by them and calculate the median value of the group. After that, we will fill in missing values."
   ]
  },
  {
   "cell_type": "code",
   "execution_count": 6,
   "id": "277500bb",
   "metadata": {},
   "outputs": [
    {
     "name": "stdout",
     "output_type": "stream",
     "text": [
      "NaN values in column \"total_income\": 0\n"
     ]
    },
    {
     "data": {
      "text/plain": [
       "count      21,525.00\n",
       "mean      165,225.32\n",
       "std        98,043.67\n",
       "min        20,667.26\n",
       "25%       107,798.17\n",
       "50%       142,594.40\n",
       "75%       195,549.94\n",
       "max     2,265,604.03\n",
       "Name: total_income, dtype: float64"
      ]
     },
     "execution_count": 6,
     "metadata": {},
     "output_type": "execute_result"
    }
   ],
   "source": [
    "data.total_income = data.total_income.fillna(data.groupby(['income_type'])['total_income'].transform('median'))\n",
    "print(f'NaN values in column \"total_income\": {data.total_income.isna().sum()}')\n",
    "data.total_income.describe()"
   ]
  },
  {
   "cell_type": "markdown",
   "id": "9c4c769b",
   "metadata": {},
   "source": [
    "When we took a look at the \"education\" column, we saw that this field had the same values written in different ways.\n",
    "\n",
    "Let's transform that field. First, we need to observe all values in column:"
   ]
  },
  {
   "cell_type": "code",
   "execution_count": 7,
   "id": "7ab9a108",
   "metadata": {},
   "outputs": [
    {
     "data": {
      "text/plain": [
       "среднее                13750\n",
       "высшее                  4718\n",
       "СРЕДНЕЕ                  772\n",
       "Среднее                  711\n",
       "неоконченное высшее      668\n",
       "ВЫСШЕЕ                   274\n",
       "Высшее                   268\n",
       "начальное                250\n",
       "Неоконченное высшее       47\n",
       "НЕОКОНЧЕННОЕ ВЫСШЕЕ       29\n",
       "НАЧАЛЬНОЕ                 17\n",
       "Начальное                 15\n",
       "ученая степень             4\n",
       "Ученая степень             1\n",
       "УЧЕНАЯ СТЕПЕНЬ             1\n",
       "Name: education, dtype: int64"
      ]
     },
     "execution_count": 7,
     "metadata": {},
     "output_type": "execute_result"
    }
   ],
   "source": [
    "data.education.value_counts()"
   ]
  },
  {
   "cell_type": "markdown",
   "id": "68d5e478",
   "metadata": {},
   "source": [
    "Some words represented in that column are written entirely in uppercase, starting with a capital letter or consisting entirely of small letters. let's bring them all to the lower case."
   ]
  },
  {
   "cell_type": "code",
   "execution_count": 8,
   "id": "1c6b1c20",
   "metadata": {},
   "outputs": [
    {
     "data": {
      "text/plain": [
       "среднее                15233\n",
       "высшее                  5260\n",
       "неоконченное высшее      744\n",
       "начальное                282\n",
       "ученая степень             6\n",
       "Name: education, dtype: int64"
      ]
     },
     "execution_count": 8,
     "metadata": {},
     "output_type": "execute_result"
    }
   ],
   "source": [
    "data.education = data.education.str.lower()\n",
    "data.education.value_counts()"
   ]
  },
  {
   "cell_type": "markdown",
   "id": "372c76bb",
   "metadata": {},
   "source": [
    "Now it looks much better. But, we definitely have categorial type of data in that column. Let's transform and arrange them into the correct order: 'начальное' -> 'среднее' -> 'неоконченное высшее' -> 'высшее' -> 'ученая степень'."
   ]
  },
  {
   "cell_type": "code",
   "execution_count": 9,
   "id": "6aae5b3e",
   "metadata": {},
   "outputs": [
    {
     "data": {
      "text/plain": [
       "0     высшее\n",
       "1    среднее\n",
       "2    среднее\n",
       "3    среднее\n",
       "4    среднее\n",
       "Name: education, dtype: category\n",
       "Categories (5, object): ['высшее', 'начальное', 'неоконченное высшее', 'среднее', 'ученая степень']"
      ]
     },
     "execution_count": 9,
     "metadata": {},
     "output_type": "execute_result"
    }
   ],
   "source": [
    "data.education = data.education.astype('category')\n",
    "data.education.head()"
   ]
  },
  {
   "cell_type": "code",
   "execution_count": 10,
   "id": "7eec8cb1",
   "metadata": {},
   "outputs": [
    {
     "data": {
      "text/plain": [
       "0     высшее\n",
       "1    среднее\n",
       "2    среднее\n",
       "3    среднее\n",
       "4    среднее\n",
       "Name: education, dtype: category\n",
       "Categories (5, object): ['начальное' < 'среднее' < 'неоконченное высшее' < 'высшее' < 'ученая степень']"
      ]
     },
     "execution_count": 10,
     "metadata": {},
     "output_type": "execute_result"
    }
   ],
   "source": [
    "#order in this list will define order of category\n",
    "ed_order = ['начальное', 'среднее', 'неоконченное высшее', 'высшее', 'ученая степень']\n",
    "covered_type = CategoricalDtype(categories=ed_order,\n",
    "                                ordered=True)\n",
    "#change this category order, as we can see in the last string (Categories (5, object): etc.) of output.\n",
    "data.education = data.education.cat.reorder_categories(ed_order, ordered=True)\n",
    "data.education.head()"
   ]
  },
  {
   "cell_type": "markdown",
   "id": "e32f7015",
   "metadata": {},
   "source": [
    "Task completed. Data type now \"Categorial\""
   ]
  },
  {
   "cell_type": "markdown",
   "id": "0967eaa9",
   "metadata": {},
   "source": [
    "Now time to make change values in column `family_status`. That field contains some data, that means 'Single' or 'In an unformal relatioship', 'Married' and 'Widow(er)/divorced'. Convert the values to the ones specified earlier. Take look at current meanings."
   ]
  },
  {
   "cell_type": "code",
   "execution_count": 11,
   "id": "439092f7",
   "metadata": {},
   "outputs": [
    {
     "data": {
      "text/plain": [
       "женат / замужем          12380\n",
       "гражданский брак          4177\n",
       "Не женат / не замужем     2813\n",
       "в разводе                 1195\n",
       "вдовец / вдова             960\n",
       "Name: family_status, dtype: int64"
      ]
     },
     "execution_count": 11,
     "metadata": {},
     "output_type": "execute_result"
    }
   ],
   "source": [
    "data.family_status.value_counts()"
   ]
  },
  {
   "cell_type": "markdown",
   "id": "c5b2f985",
   "metadata": {},
   "source": [
    "As we could see earlier `family_status` there is no single NaN, no hidden duplicates. Change `Не женат / не замужем` and `гражданский брак` to `single`, `женат / замужем` to `married` and `в разводе` and `вдовец / вдова` to `widow(er)/divorced`"
   ]
  },
  {
   "cell_type": "code",
   "execution_count": 12,
   "id": "3d7873a7",
   "metadata": {},
   "outputs": [],
   "source": [
    "def change_fam_stat(family_status):\n",
    "    if family_status in ['гражданский брак', 'Не женат / не замужем']:\n",
    "        return 'single'\n",
    "    elif family_status in ['женат / замужем']:\n",
    "        return 'married'\n",
    "    else:\n",
    "        return 'widow(er)/divorced'"
   ]
  },
  {
   "cell_type": "code",
   "execution_count": 13,
   "id": "67ce0c47",
   "metadata": {},
   "outputs": [
    {
     "name": "stderr",
     "output_type": "stream",
     "text": [
      "Рассчитано: 100%|██████████| 21525/21525 [00:00<00:00, 906923.23it/s]\n"
     ]
    },
    {
     "data": {
      "text/plain": [
       "married               12380\n",
       "single                 6990\n",
       "widow(er)/divorced     2155\n",
       "Name: family_status, dtype: int64"
      ]
     },
     "execution_count": 13,
     "metadata": {},
     "output_type": "execute_result"
    }
   ],
   "source": [
    "data.family_status = data.family_status.progress_apply(change_fam_stat)\n",
    "data.family_status.value_counts()"
   ]
  },
  {
   "cell_type": "code",
   "execution_count": 14,
   "id": "6f142050",
   "metadata": {},
   "outputs": [
    {
     "name": "stdout",
     "output_type": "stream",
     "text": [
      "<class 'pandas.core.frame.DataFrame'>\n",
      "RangeIndex: 21525 entries, 0 to 21524\n",
      "Data columns (total 12 columns):\n",
      " #   Column            Non-Null Count  Dtype   \n",
      "---  ------            --------------  -----   \n",
      " 0   children          21525 non-null  int64   \n",
      " 1   days_employed     19351 non-null  float64 \n",
      " 2   dob_years         21525 non-null  int64   \n",
      " 3   education         21525 non-null  category\n",
      " 4   education_id      21525 non-null  int64   \n",
      " 5   family_status     21525 non-null  object  \n",
      " 6   family_status_id  21525 non-null  int64   \n",
      " 7   gender            21525 non-null  object  \n",
      " 8   income_type       21525 non-null  object  \n",
      " 9   debt              21525 non-null  int64   \n",
      " 10  total_income      21525 non-null  float64 \n",
      " 11  purpose           21525 non-null  object  \n",
      "dtypes: category(1), float64(2), int64(5), object(4)\n",
      "memory usage: 1.8+ MB\n"
     ]
    }
   ],
   "source": [
    "data.info()"
   ]
  },
  {
   "cell_type": "markdown",
   "id": "b1a0eef0",
   "metadata": {},
   "source": [
    "Ok, all done, looks good"
   ]
  },
  {
   "cell_type": "markdown",
   "id": "89da5ece",
   "metadata": {
    "deletable": false,
    "id": "89da5ece"
   },
   "source": [
    "### Processing of abnormal values"
   ]
  },
  {
   "cell_type": "markdown",
   "id": "57964554",
   "metadata": {
    "deletable": false,
    "id": "57964554"
   },
   "source": [
    "In field `days_employed` we have negative values. We can change it with method `abs`, but we don't need this field in our research, and just drop it."
   ]
  },
  {
   "cell_type": "code",
   "execution_count": 15,
   "id": "f6f055bf",
   "metadata": {
    "ExecuteTime": {
     "end_time": "2022-06-07T20:27:50.404898Z",
     "start_time": "2022-06-07T20:27:50.402171Z"
    },
    "deletable": false,
    "id": "f6f055bf"
   },
   "outputs": [],
   "source": [
    "data.drop(columns=['days_employed'], axis=1, inplace=True)"
   ]
  },
  {
   "cell_type": "code",
   "execution_count": 16,
   "id": "48a2cd20",
   "metadata": {},
   "outputs": [
    {
     "name": "stdout",
     "output_type": "stream",
     "text": [
      "<class 'pandas.core.frame.DataFrame'>\n",
      "RangeIndex: 21525 entries, 0 to 21524\n",
      "Data columns (total 11 columns):\n",
      " #   Column            Non-Null Count  Dtype   \n",
      "---  ------            --------------  -----   \n",
      " 0   children          21525 non-null  int64   \n",
      " 1   dob_years         21525 non-null  int64   \n",
      " 2   education         21525 non-null  category\n",
      " 3   education_id      21525 non-null  int64   \n",
      " 4   family_status     21525 non-null  object  \n",
      " 5   family_status_id  21525 non-null  int64   \n",
      " 6   gender            21525 non-null  object  \n",
      " 7   income_type       21525 non-null  object  \n",
      " 8   debt              21525 non-null  int64   \n",
      " 9   total_income      21525 non-null  float64 \n",
      " 10  purpose           21525 non-null  object  \n",
      "dtypes: category(1), float64(1), int64(5), object(4)\n",
      "memory usage: 1.7+ MB\n"
     ]
    }
   ],
   "source": [
    "data.info()"
   ]
  },
  {
   "cell_type": "markdown",
   "id": "afcb9f55",
   "metadata": {},
   "source": [
    "By the way, we also don't need fields `education_id`, `family_status_id` and `gender`. Delete'em all."
   ]
  },
  {
   "cell_type": "code",
   "execution_count": 17,
   "id": "deff0943",
   "metadata": {},
   "outputs": [],
   "source": [
    "data.drop(columns=['education_id', 'family_status_id', 'gender'], axis=1, inplace=True)"
   ]
  },
  {
   "cell_type": "code",
   "execution_count": 18,
   "id": "2a1e2173",
   "metadata": {},
   "outputs": [
    {
     "name": "stdout",
     "output_type": "stream",
     "text": [
      "<class 'pandas.core.frame.DataFrame'>\n",
      "RangeIndex: 21525 entries, 0 to 21524\n",
      "Data columns (total 7 columns):\n",
      " #   Column         Non-Null Count  Dtype   \n",
      "---  ------         --------------  -----   \n",
      " 0   children       21525 non-null  int64   \n",
      " 1   education      21525 non-null  category\n",
      " 2   family_status  21525 non-null  object  \n",
      " 3   income_type    21525 non-null  object  \n",
      " 4   debt           21525 non-null  int64   \n",
      " 5   total_income   21525 non-null  float64 \n",
      " 6   purpose        21525 non-null  object  \n",
      "dtypes: category(1), float64(1), int64(2), object(3)\n",
      "memory usage: 1.0+ MB\n"
     ]
    }
   ],
   "source": [
    "data.info()"
   ]
  },
  {
   "cell_type": "markdown",
   "id": "ad66524b",
   "metadata": {},
   "source": [
    "Now time to count children."
   ]
  },
  {
   "cell_type": "code",
   "execution_count": 19,
   "id": "ef5056eb",
   "metadata": {
    "ExecuteTime": {
     "end_time": "2022-06-07T20:27:50.415321Z",
     "start_time": "2022-06-07T20:27:50.412611Z"
    },
    "deletable": false,
    "id": "ef5056eb",
    "outputId": "6975b15c-7f95-4697-d16d-a0c79b657b03"
   },
   "outputs": [
    {
     "data": {
      "text/plain": [
       " 0     14149\n",
       " 1      4818\n",
       " 2      2055\n",
       " 3       330\n",
       " 20       76\n",
       "-1        47\n",
       " 4        41\n",
       " 5         9\n",
       "Name: children, dtype: int64"
      ]
     },
     "execution_count": 19,
     "metadata": {},
     "output_type": "execute_result"
    }
   ],
   "source": [
    "data['children'].value_counts()"
   ]
  },
  {
   "cell_type": "markdown",
   "id": "ee191cd4",
   "metadata": {},
   "source": [
    "20 children? What? I think, that, of course, mistake and we can change that meaning to 2. And mystical `-1` kid. We can't do anything about is, and will delete these rows."
   ]
  },
  {
   "cell_type": "code",
   "execution_count": 20,
   "id": "9805fd15",
   "metadata": {},
   "outputs": [],
   "source": [
    "data.loc[data['children'] == 20, 'children'] = 2"
   ]
  },
  {
   "cell_type": "code",
   "execution_count": 21,
   "id": "92418c6d",
   "metadata": {},
   "outputs": [],
   "source": [
    "data = (data.loc[data['children'] != -1]).copy()"
   ]
  },
  {
   "cell_type": "code",
   "execution_count": 23,
   "id": "3121f2ac",
   "metadata": {},
   "outputs": [
    {
     "name": "stdout",
     "output_type": "stream",
     "text": [
      "0    14149\n",
      "1     4818\n",
      "2     2131\n",
      "3      330\n",
      "4       41\n",
      "5        9\n",
      "Name: children, dtype: int64\n"
     ]
    },
    {
     "data": {
      "text/html": [
       "<div>\n",
       "<style scoped>\n",
       "    .dataframe tbody tr th:only-of-type {\n",
       "        vertical-align: middle;\n",
       "    }\n",
       "\n",
       "    .dataframe tbody tr th {\n",
       "        vertical-align: top;\n",
       "    }\n",
       "\n",
       "    .dataframe thead th {\n",
       "        text-align: right;\n",
       "    }\n",
       "</style>\n",
       "<table border=\"1\" class=\"dataframe\">\n",
       "  <thead>\n",
       "    <tr style=\"text-align: right;\">\n",
       "      <th></th>\n",
       "      <th>children</th>\n",
       "      <th>education</th>\n",
       "      <th>family_status</th>\n",
       "      <th>income_type</th>\n",
       "      <th>debt</th>\n",
       "      <th>total_income</th>\n",
       "      <th>purpose</th>\n",
       "    </tr>\n",
       "  </thead>\n",
       "  <tbody>\n",
       "    <tr>\n",
       "      <th>0</th>\n",
       "      <td>1</td>\n",
       "      <td>высшее</td>\n",
       "      <td>married</td>\n",
       "      <td>сотрудник</td>\n",
       "      <td>0</td>\n",
       "      <td>253,875.64</td>\n",
       "      <td>покупка жилья</td>\n",
       "    </tr>\n",
       "    <tr>\n",
       "      <th>1</th>\n",
       "      <td>1</td>\n",
       "      <td>среднее</td>\n",
       "      <td>married</td>\n",
       "      <td>сотрудник</td>\n",
       "      <td>0</td>\n",
       "      <td>112,080.01</td>\n",
       "      <td>приобретение автомобиля</td>\n",
       "    </tr>\n",
       "    <tr>\n",
       "      <th>2</th>\n",
       "      <td>0</td>\n",
       "      <td>среднее</td>\n",
       "      <td>married</td>\n",
       "      <td>сотрудник</td>\n",
       "      <td>0</td>\n",
       "      <td>145,885.95</td>\n",
       "      <td>покупка жилья</td>\n",
       "    </tr>\n",
       "    <tr>\n",
       "      <th>3</th>\n",
       "      <td>3</td>\n",
       "      <td>среднее</td>\n",
       "      <td>married</td>\n",
       "      <td>сотрудник</td>\n",
       "      <td>0</td>\n",
       "      <td>267,628.55</td>\n",
       "      <td>дополнительное образование</td>\n",
       "    </tr>\n",
       "    <tr>\n",
       "      <th>4</th>\n",
       "      <td>0</td>\n",
       "      <td>среднее</td>\n",
       "      <td>single</td>\n",
       "      <td>пенсионер</td>\n",
       "      <td>0</td>\n",
       "      <td>158,616.08</td>\n",
       "      <td>сыграть свадьбу</td>\n",
       "    </tr>\n",
       "  </tbody>\n",
       "</table>\n",
       "</div>"
      ],
      "text/plain": [
       "   children education family_status income_type  debt  total_income  \\\n",
       "0         1    высшее       married   сотрудник     0    253,875.64   \n",
       "1         1   среднее       married   сотрудник     0    112,080.01   \n",
       "2         0   среднее       married   сотрудник     0    145,885.95   \n",
       "3         3   среднее       married   сотрудник     0    267,628.55   \n",
       "4         0   среднее        single   пенсионер     0    158,616.08   \n",
       "\n",
       "                      purpose  \n",
       "0               покупка жилья  \n",
       "1     приобретение автомобиля  \n",
       "2               покупка жилья  \n",
       "3  дополнительное образование  \n",
       "4             сыграть свадьбу  "
      ]
     },
     "execution_count": 23,
     "metadata": {},
     "output_type": "execute_result"
    }
   ],
   "source": [
    "print(data.children.value_counts())\n",
    "data.head()"
   ]
  },
  {
   "cell_type": "code",
   "execution_count": null,
   "id": "ad4fa8b7",
   "metadata": {
    "ExecuteTime": {
     "end_time": "2022-06-07T20:27:50.428253Z",
     "start_time": "2022-06-07T20:27:50.425273Z"
    },
    "deletable": false,
    "id": "ad4fa8b7",
    "outputId": "b2097101-d49d-44d9-901b-32a65c9463d1"
   },
   "outputs": [],
   "source": [
    "data['children'].unique()"
   ]
  },
  {
   "cell_type": "markdown",
   "id": "c5460c91",
   "metadata": {},
   "source": [
    "<div class=\"alert alert-success\">\n",
    "<b>✔️ Комментарий ревьюера v1:</b> \n",
    "<br>👏🏻👏🏻👏🏻 Отличная работа с аномальными значениями!\n",
    "</div>"
   ]
  },
  {
   "cell_type": "markdown",
   "id": "ddc81e43",
   "metadata": {
    "deletable": false,
    "id": "ddc81e43"
   },
   "source": [
    "### Изменение типов данных"
   ]
  },
  {
   "cell_type": "markdown",
   "id": "42d19d24",
   "metadata": {
    "deletable": false,
    "id": "42d19d24"
   },
   "source": [
    "**Задание 13. Замените вещественный тип данных в столбце `total_income` на целочисленный с помощью метода `astype()`.**"
   ]
  },
  {
   "cell_type": "code",
   "execution_count": null,
   "id": "920b65ad",
   "metadata": {
    "ExecuteTime": {
     "end_time": "2022-06-07T20:27:50.471578Z",
     "start_time": "2022-06-07T20:27:50.468675Z"
    },
    "deletable": false,
    "id": "920b65ad"
   },
   "outputs": [],
   "source": [
    "data['total_income'] = data['total_income'].astype(int)"
   ]
  },
  {
   "cell_type": "markdown",
   "id": "0aa199d4",
   "metadata": {},
   "source": [
    "<div class=\"alert alert-success\">\n",
    "<b>✔️ Комментарий ревьюера v1:</b> \n",
    "<br>Тут всё верно! Хорошо было бы вывести полученный результат для точной проверки.\n",
    "</div>"
   ]
  },
  {
   "cell_type": "markdown",
   "id": "80c420ba",
   "metadata": {
    "deletable": false,
    "id": "80c420ba"
   },
   "source": [
    "### Обработка дубликатов"
   ]
  },
  {
   "cell_type": "markdown",
   "id": "dc587695",
   "metadata": {
    "deletable": false,
    "id": "dc587695"
   },
   "source": [
    "**Задание 14. Выведите на экран количество строк-дубликатов в данных. Если такие строки присутствуют, удалите их.**"
   ]
  },
  {
   "cell_type": "code",
   "execution_count": null,
   "id": "3ee445e4",
   "metadata": {
    "ExecuteTime": {
     "end_time": "2022-06-07T20:27:50.486537Z",
     "start_time": "2022-06-07T20:27:50.472792Z"
    },
    "deletable": false,
    "id": "3ee445e4",
    "outputId": "9684deba-1934-42d1-99e1-cda61740f822"
   },
   "outputs": [],
   "source": [
    "data.duplicated().sum()"
   ]
  },
  {
   "cell_type": "code",
   "execution_count": null,
   "id": "8575fe05",
   "metadata": {
    "ExecuteTime": {
     "end_time": "2022-06-07T20:27:50.502890Z",
     "start_time": "2022-06-07T20:27:50.487949Z"
    },
    "deletable": false,
    "id": "8575fe05"
   },
   "outputs": [],
   "source": [
    "data = data.drop_duplicates()"
   ]
  },
  {
   "cell_type": "markdown",
   "id": "5e8cc777",
   "metadata": {},
   "source": [
    "<div class=\"alert alert-warning\">\n",
    "<b>⚠️ Комментарий ревьюера v1:</b> \n",
    "<br>Супер! От дубликатов тоже избавились, но рекомендую проверять после выполнения действий.\n",
    "</div>"
   ]
  },
  {
   "cell_type": "markdown",
   "id": "9771a76c",
   "metadata": {
    "deletable": false,
    "id": "9771a76c"
   },
   "source": [
    "**Задание 15. Обработайте неявные дубликаты в столбце `education`. В этом столбце есть одни и те же значения, но записанные по-разному: с использованием заглавных и строчных букв. Приведите их к нижнему регистру. Проверьте остальные столбцы.**"
   ]
  },
  {
   "cell_type": "code",
   "execution_count": null,
   "id": "a9f8e2bf",
   "metadata": {
    "ExecuteTime": {
     "end_time": "2022-06-07T20:27:50.513774Z",
     "start_time": "2022-06-07T20:27:50.504030Z"
    },
    "deletable": false,
    "id": "a9f8e2bf"
   },
   "outputs": [],
   "source": [
    "data['education'] = data['education'].str.lower()"
   ]
  },
  {
   "cell_type": "markdown",
   "id": "9904cf55",
   "metadata": {
    "deletable": false,
    "id": "9904cf55"
   },
   "source": [
    "### Категоризация данных"
   ]
  },
  {
   "cell_type": "markdown",
   "id": "72fcc8a2",
   "metadata": {
    "deletable": false,
    "id": "72fcc8a2"
   },
   "source": [
    "**Задание 16. На основании диапазонов, указанных ниже, создайте в датафрейме `data` столбец `total_income_category` с категориями:**\n",
    "\n",
    "- 0–30000 — `'E'`;\n",
    "- 30001–50000 — `'D'`;\n",
    "- 50001–200000 — `'C'`;\n",
    "- 200001–1000000 — `'B'`;\n",
    "- 1000001 и выше — `'A'`.\n",
    "\n",
    "\n",
    "**Например, кредитополучателю с доходом 25000 нужно назначить категорию `'E'`, а клиенту, получающему 235000, — `'B'`. Используйте собственную функцию с именем `categorize_income()` и метод `apply()`.**"
   ]
  },
  {
   "cell_type": "code",
   "execution_count": null,
   "id": "e1771346",
   "metadata": {
    "ExecuteTime": {
     "end_time": "2022-06-07T20:27:50.518072Z",
     "start_time": "2022-06-07T20:27:50.515254Z"
    },
    "deletable": false,
    "id": "e1771346"
   },
   "outputs": [],
   "source": [
    "def categorize_income(income):\n",
    "    try:\n",
    "        if 0 <= income <= 30000:\n",
    "            return 'E'\n",
    "        elif 30001 <= income <= 50000:\n",
    "            return 'D'\n",
    "        elif 50001 <= income <= 200000:\n",
    "            return 'C'\n",
    "        elif 200001 <= income <= 1000000:\n",
    "            return 'B'\n",
    "        elif income >= 1000001:\n",
    "            return 'A'\n",
    "    except:\n",
    "        pass"
   ]
  },
  {
   "cell_type": "code",
   "execution_count": null,
   "id": "d5f3586d",
   "metadata": {
    "ExecuteTime": {
     "end_time": "2022-06-07T20:27:50.527774Z",
     "start_time": "2022-06-07T20:27:50.519431Z"
    },
    "deletable": false,
    "id": "d5f3586d"
   },
   "outputs": [],
   "source": [
    "data['total_income_category'] = data['total_income'].apply(categorize_income)"
   ]
  },
  {
   "cell_type": "markdown",
   "id": "dde49b5c",
   "metadata": {
    "deletable": false,
    "id": "dde49b5c"
   },
   "source": [
    "**Задание 17. Выведите на экран перечень уникальных целей взятия кредита из столбца `purpose`.**"
   ]
  },
  {
   "cell_type": "code",
   "execution_count": null,
   "id": "f67ce9b3",
   "metadata": {
    "ExecuteTime": {
     "end_time": "2022-06-07T20:27:50.534074Z",
     "start_time": "2022-06-07T20:27:50.528832Z"
    },
    "deletable": false,
    "id": "f67ce9b3",
    "outputId": "673c12d9-7d7e-4ae0-9812-c622c89dd244"
   },
   "outputs": [],
   "source": [
    "data['purpose'].unique()"
   ]
  },
  {
   "cell_type": "markdown",
   "id": "85d0aef0",
   "metadata": {
    "deletable": false,
    "id": "85d0aef0"
   },
   "source": [
    "**Задание 18. Создайте функцию, которая на основании данных из столбца `purpose` сформирует новый столбец `purpose_category`, в который войдут следующие категории:**\n",
    "\n",
    "- `'операции с автомобилем'`,\n",
    "- `'операции с недвижимостью'`,\n",
    "- `'проведение свадьбы'`,\n",
    "- `'получение образования'`.\n",
    "\n",
    "**Например, если в столбце `purpose` находится подстрока `'на покупку автомобиля'`, то в столбце `purpose_category` должна появиться строка `'операции с автомобилем'`.**\n",
    "\n",
    "**Используйте собственную функцию с именем `categorize_purpose()` и метод `apply()`. Изучите данные в столбце `purpose` и определите, какие подстроки помогут вам правильно определить категорию.**"
   ]
  },
  {
   "cell_type": "code",
   "execution_count": null,
   "id": "e149fab4",
   "metadata": {
    "ExecuteTime": {
     "end_time": "2022-06-07T20:27:50.538608Z",
     "start_time": "2022-06-07T20:27:50.535622Z"
    },
    "deletable": false,
    "id": "e149fab4"
   },
   "outputs": [],
   "source": [
    "def categorize_purpose(row):\n",
    "    try:\n",
    "        if 'автом' in row:\n",
    "            return 'операции с автомобилем'\n",
    "        elif 'жил' in row or 'недвиж' in row:\n",
    "            return 'операции с недвижимостью'\n",
    "        elif 'свад' in row:\n",
    "            return 'проведение свадьбы'\n",
    "        elif 'образов' in row:\n",
    "            return 'получение образования'\n",
    "    except:\n",
    "        return 'нет категории'"
   ]
  },
  {
   "cell_type": "code",
   "execution_count": null,
   "id": "bf36e69b",
   "metadata": {
    "ExecuteTime": {
     "end_time": "2022-06-07T20:27:50.547063Z",
     "start_time": "2022-06-07T20:27:50.539992Z"
    },
    "deletable": false,
    "id": "bf36e69b"
   },
   "outputs": [],
   "source": [
    "data['purpose_category'] = data['purpose'].apply(categorize_purpose)"
   ]
  },
  {
   "cell_type": "markdown",
   "id": "9c7a46e2",
   "metadata": {},
   "source": [
    "<div class=\"alert alert-warning\">\n",
    "<b>⚠️ Комментарий ревьюера v1:</b> Выведи, пожалуйста, полученные резульатты."
   ]
  },
  {
   "cell_type": "markdown",
   "id": "09b242bf",
   "metadata": {
    "deletable": false,
    "editable": false,
    "id": "09b242bf"
   },
   "source": [
    "## Исследуйте данные и ответьте на вопросы"
   ]
  },
  {
   "cell_type": "markdown",
   "id": "d5c293a9",
   "metadata": {},
   "source": [
    "Напомним состав данных:\n",
    "* children — количество детей в семье\n",
    "* days_employed — общий трудовой стаж в днях\n",
    "* dob_years — возраст клиента в годах\n",
    "* education — уровень образования клиента\n",
    "* education_id — идентификатор уровня образования\n",
    "* family_status — семейное положение\n",
    "* family_status_id — идентификатор семейного положения\n",
    "* gender — пол клиента\n",
    "* income_type — тип занятости\n",
    "* debt — имел ли задолженность по возврату кредитов\n",
    "* total_income — ежемесячный доход\n",
    "* purpose — цель получения кредита\n",
    "\n",
    "Помимо этого были добавлены столбцы, с помощью которых мы категоризировали клиентов по уровню дохода и уточнили категории целей взятия кредита:\n",
    "* total_income_category - категории дохода\n",
    "* purpose_category цели взятия кредита\n",
    "\n",
    "Предварительные гипотезы исследования:\n",
    "* наличие детей и их количество влияют на вероятность возврата кредита\n",
    "* семейное положение влияет на вероятность возврата кредита\n",
    "* уровень дохода влияет на вероятность возврата кредита\n",
    "* цель получения кредита влияет на вероятность возврата кредита\n",
    "\n",
    "Данные для исследования предварительно проверены, сгруппированы и категоризованы."
   ]
  },
  {
   "cell_type": "markdown",
   "id": "c5d66278",
   "metadata": {
    "deletable": false,
    "editable": false,
    "id": "c5d66278"
   },
   "source": [
    "**Задание 19. Есть ли зависимость между количеством детей и возвратом кредита в срок?**"
   ]
  },
  {
   "cell_type": "markdown",
   "id": "759efd46",
   "metadata": {},
   "source": [
    "### Зависимость между количеством детей и возвратом кредита в срок"
   ]
  },
  {
   "cell_type": "markdown",
   "id": "29ea753e",
   "metadata": {},
   "source": [
    "Для решения задачи импортируем необходимые библиотеки - `seaborn`, `matplotlib`, `scipy.stat`. \n",
    "\n",
    "Сформируем новый датафрейм сгруппировав данные по количеству детей в семье. Количество детей будет не индексом а столбцом, чтобы иметь возможность рассчитать коэффициент корреляции. Здесь же рассчитаем среднее значение просроченных кредитов и переведем значения в проценты. \n",
    "\n",
    "Рассчитаем коэффициент корелляции Спирмена и p-value, чтобы понять - есть зависимость или нет и ее статистическую достоверность. Коэффициент Спирмена был выбран нами из-за того, что будет проверено небольшое количество данных и шкала \"Дети\" - интервальная (порядковая) с одной стороны и шкала \"среднее количество просроченных кредитов\" непрерывная (метрическая) с другой. \n",
    "\n",
    "Для лучшего представления данных построим столбчатую диаграмму. "
   ]
  },
  {
   "cell_type": "code",
   "execution_count": null,
   "id": "2cacfc4a",
   "metadata": {
    "ExecuteTime": {
     "end_time": "2022-06-07T20:27:51.348001Z",
     "start_time": "2022-06-07T20:27:50.548392Z"
    },
    "id": "2cacfc4a"
   },
   "outputs": [],
   "source": [
    "# Ваш код будет здесь. Вы можете создавать новые ячейки.\n",
    "# Импортируем библиотеки для построения диаграмм и вычисления статистики, определяем стиль диаграмм, \n",
    "# задаем константу для печати разделителя\n",
    "import seaborn\n",
    "import matplotlib.pyplot as plt\n",
    "# Устанавливаем стиль\n",
    "plt.style.use('ggplot')\n",
    "\n",
    "# Изменяем размер диаграммы\n",
    "plt.rcParams['figure.figsize']=(12,8)\n",
    "seaborn.set(font_scale=1.3)\n",
    "\n",
    "from scipy.stats import pearsonr, spearmanr\n",
    "\n",
    "separator = '____________________________________________________________________________________________'\n",
    "\n",
    "# Формируем датафрейм, сгруппировав данные по количеству детей в семье, сделав количество детей столбцом.\n",
    "# Так же рассчитываем отношение невозвращенных кредитов к общему количеству кредитов в группе.\n",
    "chld_stat = data.groupby('children', as_index=False)['debt'].mean()\n",
    "\n",
    "# Домножим полученные значения в столбце 'debt' на сто и округлим до двух знаков, получив процент невозврата \n",
    "# кредитов по группе с точностью до сотых процента.  \n",
    "\n",
    "chld_stat['debt'] = round(chld_stat['debt'] * 100, ndigits=2)\n",
    "\n",
    "print('Процент невозвратов по группам клиентов с n количеством детей: \\n')\n",
    "print(chld_stat)\n",
    "print(separator)\n",
    "print()\n",
    "\n",
    "# Рассчитаем по выборке коэффициент корреляции Спирмена и p-value\n",
    "r, p = spearmanr(chld_stat['children'], chld_stat['debt'])\n",
    "print(f'Для выборки коэффициент Спирмена = {r:.02f}, p-value = {p:.03}.')\n",
    "print(separator)\n",
    "print()\n",
    "\n",
    "print('Построим диаграмму:')\n",
    "# Построим диаграмму для более наглядного представления\n",
    "ax = seaborn.barplot(data=chld_stat, x='children', y = 'debt')\n",
    "ax.set(xlabel='Количество детей',\n",
    "       ylabel='Процент просрочек',\n",
    "       title='Процент просрочек у семей с детьми \\n')\n",
    "\n",
    "plt.draw()"
   ]
  },
  {
   "cell_type": "markdown",
   "id": "3e60295d",
   "metadata": {
    "deletable": false,
    "id": "3a6b99ec"
   },
   "source": [
    "**Предварительный вывод:** \n",
    "\n",
    "Исходя из полученных значений можно предположить отсутствие зависимости между невыплатой задолженности и фактом возрастания количества детей в семье (коэффициент корреляции Спирмена лежит около 0, значение p-value говорит об отсутствии статистической значимости). Однако, на данные мог повлиять выброс в семьях с кол-вом детей = 5. Исследуем данные, чтобы понять сколько семей с количеством детей равным пяти встречается в датасете. Если общее количество невелико, можно отбросить эти данные."
   ]
  },
  {
   "cell_type": "markdown",
   "id": "b6975b9b",
   "metadata": {},
   "source": [
    "<div class=\"alert alert-success\">\n",
    "<b>✔️ Комментарий ревьюера v1:</b> \n",
    "<br>Отлично!\n",
    "</div>"
   ]
  },
  {
   "cell_type": "code",
   "execution_count": null,
   "id": "0ca3ca56",
   "metadata": {
    "ExecuteTime": {
     "end_time": "2022-06-07T20:27:51.351936Z",
     "start_time": "2022-06-07T20:27:51.349056Z"
    }
   },
   "outputs": [],
   "source": [
    "ch_5 = data.loc[data['children'] > 4]['children'].count()\n",
    "print(f'Семей с детьми более 4: {ch_5}')"
   ]
  },
  {
   "cell_type": "markdown",
   "id": "846cc7d6",
   "metadata": {},
   "source": [
    "Действительно, таких семей только 9 из более чем 23 тысяч. Пересчитаем данные, отбросив данные о семьях с числом детей = 5. "
   ]
  },
  {
   "cell_type": "code",
   "execution_count": null,
   "id": "56bd8bfa",
   "metadata": {
    "ExecuteTime": {
     "end_time": "2022-06-07T20:27:51.509450Z",
     "start_time": "2022-06-07T20:27:51.352900Z"
    }
   },
   "outputs": [],
   "source": [
    "#Создадим новый датасет без семей с количеством детей = 5\n",
    "data_without_5 = data.loc[data['children'] <5 ]\n",
    "\n",
    "# Далее повторяем вычисления с новым датасетом\n",
    "# Формируем датафрейм, сгруппировав данные по количеству детей в семье, сделав количество детей столбцом.\n",
    "# Так же рассчитываем отношение невозвращенных кредитов к общему количеству кредитов в группе.\n",
    "chld_stat = data_without_5.groupby('children', as_index=False)['debt'].mean()\n",
    "\n",
    "# Домножим полученные значения в столбце 'debt' на сто и округлим до двух знаков, получив процент невозврата \n",
    "# кредитов по группе с точностью до сотых процента.  \n",
    "chld_stat['debt'] = round(chld_stat['debt'] * 100, ndigits=2)\n",
    "\n",
    "print('Процент невозвратов по группам клиентов с n количеством детей: \\n')\n",
    "print(chld_stat)\n",
    "print(separator)\n",
    "print()\n",
    "\n",
    "# Рассчитаем по выборке коэффициент корреляции Спирмена и p-value\n",
    "r, p = spearmanr(chld_stat['children'], chld_stat['debt'])\n",
    "print(f'Для выборки коэффициент Спирмена = {r:.02f}, p-value = {p:.03}.')\n",
    "print(separator)\n",
    "print()\n",
    "\n",
    "print('Построим диаграмму:')\n",
    "# Построим диаграмму для более наглядного представления\n",
    "ax = seaborn.barplot(data=chld_stat, x='children', y = 'debt')\n",
    "ax.set(xlabel='Количество детей',\n",
    "       ylabel='Процент просрочек',\n",
    "       title='Процент просрочек у семей с детьми \\n')\n",
    "\n",
    "plt.draw()"
   ]
  },
  {
   "cell_type": "markdown",
   "id": "adea6d21",
   "metadata": {},
   "source": [
    "**Вывод:**\n",
    "\n",
    "Действительно, корреляция изменилась: коэффициент Спирмена перешел в категорию \"заметная\", что выглядит более убедительно с точки зрения данных и их графического представления. Но p-value остается слишком высоким, чтобы наша гипотеза о  повышении вероятности невыплаты кредита от возрастания количества детей в семье была принята. Вероятность ошибки в таком предположении весьма существена, хотя говорить о ее полном отсутствии нельзя. \n",
    "\n",
    "Таким образом, можно сделать вывод о том, что количество детей в семье **мало влияет** на вероятность выплаты кредита, но, при этом, надо отметить, что наименьшим процент просрочки будет в семьях без детей, видимо из-за большей предсказуемости семейного бюджета."
   ]
  },
  {
   "cell_type": "markdown",
   "id": "2d03f5f1",
   "metadata": {},
   "source": [
    "<div class=\"alert alert-success\">\n",
    "<b>✔️ Комментарий ревьюера v1:</b> \n",
    "<br>Верно! Отдельный плюс за визуализацию, молодец!\n",
    "</div>"
   ]
  },
  {
   "cell_type": "markdown",
   "id": "97be82ca",
   "metadata": {
    "deletable": false,
    "editable": false,
    "id": "97be82ca"
   },
   "source": [
    "**Задание 20. Есть ли зависимость между семейным положением и возвратом кредита в срок?**"
   ]
  },
  {
   "cell_type": "markdown",
   "id": "5bce4389",
   "metadata": {},
   "source": [
    "### Зависимость между семейным положение и возвратом кредита в срок"
   ]
  },
  {
   "cell_type": "markdown",
   "id": "7fee830c",
   "metadata": {},
   "source": [
    "Для решения задачи сформируем новый датафрейм, сгруппировав данные по виду семейного положения заемщика. Семейное положение будет не индексом а столбцом, чтобы иметь возможность рассчитать коэффициент корреляции. Здесь же рассчитаем среднее значение просроченных кредитов и переведем значения в проценты.\n",
    "\n",
    "Рассчитаем коэффициент корелляции Спирмена и p-value, чтобы понять - есть зависимость или нет и ее статистическую достоверность. Коэффициент Спирмена был выбран нами из-за того, что будет проверено небольшое количество данных и шкала \"Семейное положение\" - категориальная с одной стороны, а шкала \"среднее количество просроченных кредитов\" непрерывная (метрическая) с другой.\n",
    "\n",
    "Для лучшего представления данных построим столбчатую диаграмму."
   ]
  },
  {
   "cell_type": "code",
   "execution_count": null,
   "id": "dc3f7ee8",
   "metadata": {
    "ExecuteTime": {
     "end_time": "2022-06-07T20:27:51.646680Z",
     "start_time": "2022-06-07T20:27:51.510984Z"
    },
    "id": "dc3f7ee8"
   },
   "outputs": [],
   "source": [
    "# Ваш код будет здесь. Вы можете создавать новые ячейки.\n",
    "\n",
    "# Формируем датафрейм, сгруппировав данные по семейному положению, сделав сделав его столбцом.\n",
    "# Так же рассчитываем отношение невозвращенных кредитов к общему количеству кредитов в группе.\n",
    "fam_stat = data.groupby('family_status', as_index=False)['debt'].mean()\n",
    "\n",
    "# Домножим полученные значения в столбце 'debt' на сто и округлим до двух знаков, получив процент невозврата \n",
    "# кредитов по группе с точностью до сотых процента.  \n",
    "\n",
    "fam_stat['debt'] = round(fam_stat['debt'] * 100, ndigits=2)\n",
    "\n",
    "print('Процент невозвратов кредитов в зависимости от семейного положения: \\n')\n",
    "print(fam_stat)\n",
    "print(separator)\n",
    "print()\n",
    "\n",
    "# Рассчитаем по выборке коэффициент ранговой корреляции Спирмена и p-value\n",
    "r, p = spearmanr(fam_stat['family_status'], fam_stat['debt'])\n",
    "print(f'Для выборки коэффициент Спирмена = {r:.02f}, p-value = {p:.03}.')\n",
    "print(separator)\n",
    "print()\n",
    "\n",
    "print('Построим диаграмму:')\n",
    "plt.figure(figsize=(10, 10))\n",
    "plt.xlabel('Процент просрочек')\n",
    "plt.ylabel('')\n",
    "plt.title('Процент просрочек в зависимости от семейного положения \\n', loc='left')\n",
    "plt.barh(y=fam_stat['family_status'], width=fam_stat['debt'])\n",
    "plt.draw()"
   ]
  },
  {
   "cell_type": "markdown",
   "id": "1cef7837",
   "metadata": {
    "deletable": false,
    "id": "1cef7837"
   },
   "source": [
    "**Предварительный вывод:** \n",
    "Если верить исключительно цифрам, то корреляция мала, p-value не позволяет говорить о статистической достоверности гипотезы о наличии зависимости вероятности невыплаты кредита от семейного положения. Но, если посмотреть на графическое представление данных, то можно заметить, что две группы допускают б**о**льшее количество невыплат, чем три других. Отличаются эти две группы по одному признаку - люди входящие в них не состоят в официально оформленных отношениях. К тому же, есть вероятность, что указавшие себя как не женатые / не замужем, так же находятся в неоформленных отношениях. Указавшие же себя как \"состоящие в гражданском браке\" с юридической точки зрения входят в группу \"не женат / не замужем\". Попробуем объединить группы по признаку: состоит ли заемщик в официально зарегистрированных отношениях или нет."
   ]
  },
  {
   "cell_type": "markdown",
   "id": "3dd14c6b",
   "metadata": {},
   "source": [
    "<div class=\"alert alert-success\">\n",
    "<b>✔️ Комментарий ревьюера v1:</b> \n",
    "<br>Тут всё правильно\n",
    "</div>"
   ]
  },
  {
   "cell_type": "code",
   "execution_count": null,
   "id": "6e129539",
   "metadata": {
    "ExecuteTime": {
     "end_time": "2022-06-07T20:27:51.657205Z",
     "start_time": "2022-06-07T20:27:51.648026Z"
    }
   },
   "outputs": [],
   "source": [
    "# Выведем идентификаторы групп семейного положения\n",
    "print(data.groupby('family_status').agg({'family_status_id':['unique', 'count']}))"
   ]
  },
  {
   "cell_type": "code",
   "execution_count": null,
   "id": "832040cc",
   "metadata": {
    "ExecuteTime": {
     "end_time": "2022-06-07T20:27:51.661213Z",
     "start_time": "2022-06-07T20:27:51.658414Z"
    }
   },
   "outputs": [],
   "source": [
    "# Напишем функцию для дополнительно категоризации семейного положения заемщиков\n",
    "def categorize_family_status(family_status_id):\n",
    "    try:\n",
    "        if family_status_id in [4, 1]:\n",
    "            return 'Не состоит в оф. отношениях'\n",
    "        else:\n",
    "            return 'Состоит/ранее состоял в оф. отношениях'\n",
    "    except:\n",
    "        return 'Неопределенная категория'"
   ]
  },
  {
   "cell_type": "markdown",
   "id": "6380bc49",
   "metadata": {},
   "source": [
    "<div class=\"alert alert-success\">\n",
    "<b>✔️ Комментарий ревьюера v1:</b> Здесь верно, можно было кейсами прописать также."
   ]
  },
  {
   "cell_type": "code",
   "execution_count": null,
   "id": "2d95f58e",
   "metadata": {
    "ExecuteTime": {
     "end_time": "2022-06-07T20:27:51.675201Z",
     "start_time": "2022-06-07T20:27:51.669282Z"
    }
   },
   "outputs": [],
   "source": [
    "# Применим функцию по столбцу family_status_id\n",
    "data['family_status_category'] = data['family_status_id'].apply(categorize_family_status)\n",
    "data.head()"
   ]
  },
  {
   "cell_type": "code",
   "execution_count": null,
   "id": "07005c72",
   "metadata": {
    "ExecuteTime": {
     "end_time": "2022-06-07T20:27:51.801139Z",
     "start_time": "2022-06-07T20:27:51.676380Z"
    }
   },
   "outputs": [],
   "source": [
    "# Выполним расчеты с помощью новой группировки\n",
    "\n",
    "# Формируем датафрейм, сгруппировав данные по типу семейного положения, сделав сделав его столбцом.\n",
    "# Так же рассчитываем отношение невозвращенных кредитов к общему количеству кредитов в группе.\n",
    "fam_stat = data.groupby('family_status_category', as_index=False)['debt'].mean()\n",
    "\n",
    "# Домножим полученные значения в столбце 'debt' на сто и округлим до двух знаков, получив процент невозврата \n",
    "# кредитов по группе с точностью до сотых процента.  \n",
    "\n",
    "fam_stat['debt'] = round(fam_stat['debt'] * 100, ndigits=2)\n",
    "\n",
    "print('Процент невозвратов кредитов в зависимости от семейного положения: \\n')\n",
    "print(fam_stat)\n",
    "print(separator)\n",
    "print()\n",
    "\n",
    "print('Построим диаграмму:')\n",
    "ax = seaborn.barplot (data=fam_stat, y='family_status_category', x='debt')\n",
    "ax.set(xlabel='Процент просрочек',\n",
    "       ylabel='',\n",
    "       title='Процент просрочек в зависимости от семейного положения \\n')\n",
    "\n",
    "plt.draw()"
   ]
  },
  {
   "cell_type": "markdown",
   "id": "174aca98",
   "metadata": {},
   "source": [
    "**Вывод:**\n",
    "\n",
    "Рассчитывать коэффициент корелляции мы не будем - выборка слишком мала, но в этом и нет необходимости. Графическое представление наглядно показывает нам разницу между количеством просрочек у людей, состоящих либо ранее состоявших в официальных отношениях, с людьми, которые в официальных отношениях не состоят. Сделать какой-то вывод о причинах такой зависимости сложно; возможно так происходит из-за более ответственного отношения к соблюдению формальностей у людей, оформлявших отношения. \n",
    "\n",
    "Таким образом, можно сделать общий вывод о том, что люди, не состоящие в официально оформленных отношениях, являются **менее надежными** заемщиками. \n",
    "\n",
    "Так же интересно, что разведенные и вдовцы - самые надежные плательщики. Причины этого лежат за пределами нашего исследования. "
   ]
  },
  {
   "cell_type": "markdown",
   "id": "313e4506",
   "metadata": {},
   "source": [
    "<div class=\"alert alert-success\">\n",
    "<b>✔️ Комментарий ревьюера v1:</b>\n",
    "<br>Абсолютно верно!Вывод очень полный и структурированный.\n",
    "</div>"
   ]
  },
  {
   "cell_type": "markdown",
   "id": "1e8b2fca",
   "metadata": {
    "deletable": false,
    "editable": false,
    "id": "1e8b2fca"
   },
   "source": [
    "**Задание 21. Есть ли зависимость между уровнем дохода и возвратом кредита в срок?**"
   ]
  },
  {
   "cell_type": "markdown",
   "id": "ac93d622",
   "metadata": {},
   "source": [
    "### Зависимость между уровнем дохода и возвратом кредита в срок"
   ]
  },
  {
   "cell_type": "markdown",
   "id": "1a9eeaae",
   "metadata": {},
   "source": [
    "Произведем схожие с предыдущими разделами операции по группировке и вычислению среднего процента задолженности в соответствующей группе. Построим диаграмму для более наглядного представления результатов. "
   ]
  },
  {
   "cell_type": "code",
   "execution_count": null,
   "id": "cd7e3720",
   "metadata": {
    "ExecuteTime": {
     "end_time": "2022-06-07T20:27:51.939646Z",
     "start_time": "2022-06-07T20:27:51.802499Z"
    },
    "id": "cd7e3720"
   },
   "outputs": [],
   "source": [
    "# Ваш код будет здесь. Вы можете создавать новые ячейки.\n",
    "# Формируем датафрeйм, сгруппировав данные по уровню дохода, сделав сделав его столбцом.\n",
    "# Так же рассчитываем отношение невозвращенных кредитов к общему количеству кредитов в группе.\n",
    "income_stat = data.groupby('total_income_category', as_index=False)['debt'].mean()\n",
    "\n",
    "# Рассчитаем общее количество клиентов, сгруппировав их по уровню дохода\n",
    "df = data.groupby('total_income_category', as_index = False)['debt'].count()\n",
    "\n",
    "# Домножим полученные значения в столбце 'debt' на сто и округлим до двух знаков, получив процент невозврата \n",
    "# кредитов по группе с точностью до сотых процента.  \n",
    "income_stat['debt'] = round(income_stat['debt'] * 100, ndigits=2)\n",
    "\n",
    "#Переименуем названия категорий для лучшего восприятия данных\n",
    "names = {'E': 'Доход до 30000 т.р.','D':  'Доход от 30001 до 50000 т.р.','C': 'Доход от 50001 до 200000 т.р.', \n",
    "'B': 'Доход от 200001 до 1000000 т.р.', 'A': 'Доход свыше 1 млн. руб.'}\n",
    "income_stat['total_income_category'] = income_stat['total_income_category'].map(names)\n",
    "df['total_income_category'] = df['total_income_category'].map(names)\n",
    "\n",
    "print('Общее количество клиентов, сгруппированных по уровню дохода \\n')\n",
    "display(df)\n",
    "print(separator)\n",
    "print()\n",
    "\n",
    "print('Процент невозвратов кредитов в зависимости от уровня дохода: \\n')\n",
    "display(income_stat)\n",
    "print(separator)\n",
    "print()\n",
    "\n",
    "print('Построим диаграмму по категриям:')\n",
    "ax = seaborn.barplot (data=income_stat, y='total_income_category', x='debt')\n",
    "\n",
    "ax.set(xlabel='Процент просрочек',\n",
    "       ylabel='',\n",
    "       title='Процент просрочек в зависимости от дохода \\n')\n",
    "\n",
    "plt.draw()"
   ]
  },
  {
   "cell_type": "markdown",
   "id": "e8593def",
   "metadata": {
    "deletable": false,
    "id": "e8593def"
   },
   "source": [
    "**Промежуточный вывод:** \n",
    "В данных наблюдаются как ожидаемые результаты: наибольшее количество кредитов, невыплаченных в срок приходится на наименее обеспеченную группу клиентов, так и несколько неожиданные:\n",
    "* вторая по количеству невыплат группа клиентов - группа клиентов со средним и высоким доходом, самая многочисленная по общему количеству клиентов. \n",
    "* наиболее \"обязательная\" группа клиентов - группа с доходом равным и чуть выше, чем средний доход по стране. \n",
    "* максимальный месячный доход клиента (более миллиона) не гарантирует выплаты кредита в срок. "
   ]
  },
  {
   "cell_type": "markdown",
   "id": "d0d8194d",
   "metadata": {},
   "source": [
    "<div class=\"alert alert-success\">\n",
    "<b>✔️ Комментарий ревьюера v1:</b>\n",
    "<br>Отличная визуализация!\n",
    "</div>"
   ]
  },
  {
   "cell_type": "markdown",
   "id": "bc0818dd",
   "metadata": {},
   "source": [
    "Однако, если внимательно посмотреть на распределение по категориям, то можно уведить, что оно явно неравномерно. Попробуем перегруппировать клиентов в зависимости от дохода. \n",
    "\n",
    "Для получения границ диапазонов возьмем значение двадцать пятого, пятидесятого, семьдесят пятого персентилей. Назовем группы, определенные с помощью вычисленных значений: *Низкий доход, Доход ниже медианного, Доход выше медианного, Высокий доход*.\n",
    "\n",
    "Отдельно возьмем группу с наивысшим доходом - 3 верхних процента из диапазона. \n",
    "Отдельно возьмем группу с наименьшим доходом - 3 нижних процента из диапазона. \n",
    "\n",
    "Сначала получим данные для определения граничных значений диапазонов. \n"
   ]
  },
  {
   "cell_type": "code",
   "execution_count": null,
   "id": "8df6f8de",
   "metadata": {
    "ExecuteTime": {
     "end_time": "2022-06-07T20:27:51.949509Z",
     "start_time": "2022-06-07T20:27:51.941125Z"
    }
   },
   "outputs": [],
   "source": [
    "# Рассчитаем и выведем значение для пятого персентиля\n",
    "low_low_income = data.total_income.quantile(0.03)\n",
    "print(f'Верхняя граница для отнесения заемщика к категории \"Наименьший доход\": {low_low_income:.02f}р.')\n",
    "print(separator)\n",
    "print()\n",
    "\n",
    "# Рассчитаем и выведем значение для двадцать пятого персентиля\n",
    "low_income = data.total_income.quantile(0.25)\n",
    "print(f'Верхняя граница для отнесения заемщика к категории \"Низкий доход\": {low_income:.02f}р.')\n",
    "print(separator)\n",
    "print()\n",
    "\n",
    "# Рассчитаем и выведем значение для пятидесятого персентиля\n",
    "low_middle_income = data.total_income.quantile(0.50)\n",
    "print(f'Верхняя граница для отнесения заемщика к категории \"Доход ниже среднего\": {low_middle_income:.02f}р.')\n",
    "print(separator)\n",
    "print()\n",
    "\n",
    "# Рассчитаем и выведем значение для семьдесят пятого персентиля\n",
    "high_middle_income = data.total_income.quantile(0.70)\n",
    "print(f'Верхняя граница для отнесения заемщика к категории \"Доход выше среднего\": {low_middle_income:.02f}р.')\n",
    "print(separator)\n",
    "print()\n",
    "\n",
    "# Рассчитаем и выведем значение для девяносто пятого персентиля\n",
    "high_income = data.total_income.quantile(0.97)\n",
    "print(f'Верхняя граница для отнесения заемщика к категории \"Высокий доход\": {high_income:.02f}р.')\n",
    "print()"
   ]
  },
  {
   "cell_type": "markdown",
   "id": "a56bd991",
   "metadata": {},
   "source": [
    "Создадим функцию для группировки и применим ее к данным"
   ]
  },
  {
   "cell_type": "code",
   "execution_count": null,
   "id": "3bba9a3f",
   "metadata": {
    "ExecuteTime": {
     "end_time": "2022-06-07T20:27:51.977848Z",
     "start_time": "2022-06-07T20:27:51.950815Z"
    }
   },
   "outputs": [],
   "source": [
    "# Объявление функции\n",
    "def categorize_income_percentile(income):\n",
    "    try:\n",
    "        if income <= low_low_income:\n",
    "            return 'F'\n",
    "        elif low_low_income <= income <= low_income:\n",
    "            return 'E'\n",
    "        elif low_income <= income <= low_middle_income:\n",
    "            return 'D'\n",
    "        elif low_middle_income <= income <= high_middle_income:\n",
    "            return 'C'\n",
    "        elif high_middle_income < income < high_income:\n",
    "            return 'B'\n",
    "        elif income > high_income:\n",
    "            return 'A'\n",
    "    except:\n",
    "        pass\n",
    "\n",
    "# Группировка\n",
    "data['total_income_category'] = data['total_income'].apply(categorize_income_percentile)"
   ]
  },
  {
   "cell_type": "markdown",
   "id": "400ceded",
   "metadata": {},
   "source": [
    "<div class=\"alert alert-success\">\n",
    "<b>✔️ Комментарий ревьюера v1:</b> Фенкция написана верно :)"
   ]
  },
  {
   "cell_type": "code",
   "execution_count": null,
   "id": "eaf2fe9d",
   "metadata": {
    "ExecuteTime": {
     "end_time": "2022-06-07T20:27:52.134720Z",
     "start_time": "2022-06-07T20:27:51.979126Z"
    }
   },
   "outputs": [],
   "source": [
    "# Формируем датафрeйм, сгруппировав данные по уровню дохода, сделав сделав его столбцом.\n",
    "# Так же рассчитываем отношение невозвращенных кредитов к общему количеству кредитов в группе.\n",
    "income_stat = data.groupby('total_income_category', as_index=False)['debt'].mean()\n",
    "\n",
    "# Рассчитаем общее количество клиентов, сгруппировав их по уровню дохода\n",
    "df = data.groupby('total_income_category', as_index = False)['debt'].count()\n",
    "\n",
    "# Домножим полученные значения в столбце 'debt' на сто и округлим до двух знаков, получив процент невозврата \n",
    "# кредитов по группе с точностью до сотых процента.  \n",
    "income_stat['debt'] = round(income_stat['debt'] * 100, ndigits=2)\n",
    "\n",
    "#Переименуем названия категорий для лучшего восприятия данных\n",
    "names = {'F': f'Доход до {low_low_income:.02f} р., наименьший.',\n",
    "         'E': f'Доход от {low_low_income:.02f} до {low_income:.02f}р., низкий',\n",
    "         'D': f'Доход от {low_income:0.02f} до {low_middle_income:0.02f}р., ниже медианного',\n",
    "         'C': f'Доход от {low_middle_income:0.02f} до {high_middle_income:0.02f}р., выше медианного', \n",
    "         'B': f'Доход от {high_middle_income:0.02f} до {high_income:0.02f}р., высокий', \n",
    "         'A': f'Доход свыше {high_income:0.02f}р., наивысший'}\n",
    "income_stat['total_income_category'] = income_stat['total_income_category'].map(names)\n",
    "df['total_income_category'] = df['total_income_category'].map(names)\n",
    "\n",
    "print('Общее количество клиентов, сгруппированных по уровню дохода \\n')\n",
    "display(df)\n",
    "print(separator)\n",
    "print()\n",
    "\n",
    "print('Процент невозвратов кредитов в зависимости от уровня дохода: \\n')\n",
    "display(income_stat)\n",
    "print(separator)\n",
    "print()\n",
    "\n",
    "print('Построим диаграмму по категриям:')\n",
    "ax = seaborn.barplot (data=income_stat, y='total_income_category', x='debt')\n",
    "\n",
    "ax.set(xlabel='Процент просрочек',\n",
    "       ylabel='',\n",
    "       title='Процент просрочек в зависимости от дохода \\n')\n",
    "\n",
    "plt.draw()"
   ]
  },
  {
   "cell_type": "markdown",
   "id": "a496b356",
   "metadata": {},
   "source": [
    "<div class=\"alert alert-success\">\n",
    "<b>✔️ Комментарий ревьюера v1:</b> Здесь для вывода можно было создать отдельный датафрейм для красоты и простоты понимания. Плюс за визуализацию!"
   ]
  },
  {
   "cell_type": "markdown",
   "id": "b2943b3f",
   "metadata": {},
   "source": [
    "Распределение выглядит значительно более нормальным, однако, не наблюдаются выбросы, выявленные на предыдущей диаграмме. Сгруппируем данные в менее крупные группы, \"нарезав\" их на пятипроцентные интервалы."
   ]
  },
  {
   "cell_type": "code",
   "execution_count": null,
   "id": "d0c459c6",
   "metadata": {
    "ExecuteTime": {
     "end_time": "2022-06-07T20:27:52.157699Z",
     "start_time": "2022-06-07T20:27:52.136011Z"
    }
   },
   "outputs": [],
   "source": [
    "# Разобъем диапазон значений столбца total_income на двадцать равных интервалов. \n",
    "data['group_prc'] = pd.qcut(data['total_income'], 20)\n",
    "# Сгруппируем, рассчитаем средний процент задолженности для каждой группы \n",
    "# и среднее и медиану для столбца total_income\n",
    "income_stat = data.groupby('group_prc', as_index=False).agg({'debt':['mean'],'total_income':['mean', 'median', 'count']})\n",
    "\n",
    "print('Полученные данные:')\n",
    "print(income_stat)\n",
    "print(separator)\n",
    "print()\n",
    "\n",
    "# Рассчитаем по выборке коэффициент корреляции Пирсона и p-value для медианы\n",
    "r, p = pearsonr(income_stat['debt']['mean'], income_stat['total_income']['median'])\n",
    "print(f'Коэффициент Пирсона для зависимости процента задолженности от медианы суммы общего дохода по группе = {r:.02f}, p-value = {p:.03}.')\n",
    "print(separator)\n",
    "print()\n",
    "\n",
    "# Рассчитаем по выборке коэффициент корреляции Пирсона и p-value для среднего\n",
    "r, p = pearsonr(income_stat['debt']['mean'], income_stat['total_income']['mean'])\n",
    "print(f'Коэффициент Пирсона для зависимости процента задолженности от средней суммы общего дохода  по группе = {r:.02f}, p-value = {p:.03}.')\n",
    "print(separator)\n",
    "print()"
   ]
  },
  {
   "cell_type": "markdown",
   "id": "563f1e97",
   "metadata": {},
   "source": [
    "<div class=\"alert alert-success\">\n",
    "<b>✔️ Комментарий ревьюера v1:</b> Можно сделать вывод по коэфициентам?"
   ]
  },
  {
   "cell_type": "code",
   "execution_count": null,
   "id": "126eae90",
   "metadata": {
    "ExecuteTime": {
     "end_time": "2022-06-07T20:27:52.383660Z",
     "start_time": "2022-06-07T20:27:52.159134Z"
    }
   },
   "outputs": [],
   "source": [
    "# Соберем еще раз датафрейм\n",
    "income_stat = data.groupby('group_prc', as_index=False)['debt'].mean()\n",
    "\n",
    "# Домножим полученные значения в столбце 'debt' на сто и округлим до двух знаков, получив процент невозврата \n",
    "# кредитов по группе с точностью до сотых процента.  \n",
    "income_stat['debt'] = round(income_stat['debt'] * 100, ndigits=2)\n",
    "\n",
    "# Настроим вывод диаграммы\n",
    "ax = seaborn.barplot(data=income_stat, x='group_prc', y='debt')\n",
    "\n",
    "ax.set(xlabel='Процент просрочек',\n",
    "       ylabel='',\n",
    "       title='Процент просрочек в зависимости от дохода \\n')\n",
    "ax.set_xticklabels(ax.get_xticklabels(),rotation = 90)\n",
    "\n",
    "plt.draw()"
   ]
  },
  {
   "cell_type": "markdown",
   "id": "2cb51465",
   "metadata": {},
   "source": [
    "**Вывод:**\n",
    "В итоге исследования данных удалось установить наличие обратной зависимости вероятности возникновения задолженности от суммы дохода заемщика. Достоверность гипотезы подтверждается при помощи расчета коэффициента корреляции Пирсона, приведенного выше. \n",
    "\n",
    "Кроме того, наблюдаются локальный подъем вероятности возникновения задолженности до максимальных значений на в диапазоне от 65 до 95 т. р.\n",
    "\n",
    "Далее вероятность удерживается на весьма высоких уровнях, вплоть до достижения границы дохода в 200 т. р., где она начинает снижаться, даже с учетом локальных выбросов в группе с доходом свыше 1 млн. руб. \n",
    "\n",
    "Таким образом нами доказано, что плательщики, входящие в группы с низкими и высокими доходами **являются более надежными**."
   ]
  },
  {
   "cell_type": "markdown",
   "id": "99ecbd1f",
   "metadata": {
    "deletable": false,
    "editable": false,
    "id": "99ecbd1f"
   },
   "source": [
    "**Задание 22. Как разные цели кредита влияют на его возврат в срок?**"
   ]
  },
  {
   "cell_type": "markdown",
   "id": "bc40b06d",
   "metadata": {},
   "source": [
    "### Влияние целей на возврат кредита в срок"
   ]
  },
  {
   "cell_type": "markdown",
   "id": "cf4fa9d7",
   "metadata": {},
   "source": [
    "Произведем расчеты, сходные с приведенными выше, сгруппировав данные по целям получения кредита и вычислив средний процент невозвратов кредита в группах. Построим диаграмму для более наглядного представления расчетов. "
   ]
  },
  {
   "cell_type": "code",
   "execution_count": null,
   "id": "2b687290",
   "metadata": {
    "ExecuteTime": {
     "end_time": "2022-06-07T20:27:52.506571Z",
     "start_time": "2022-06-07T20:27:52.384863Z"
    },
    "id": "2b687290"
   },
   "outputs": [],
   "source": [
    "# Ваш код будет здесь. Вы можете создавать новые ячейки.\n",
    "# Формируем датафрeйм, сгруппировав данные по целям получения кредита, сделав сделав его столбцом.\n",
    "# Так же рассчитываем отношение невозвращенных кредитов к общему количеству кредитов в группе.\n",
    "goal_stat = data.groupby('purpose_category', as_index=False)['debt'].mean()\n",
    "\n",
    "# Домножим полученные значения в столбце 'debt' на сто и округлим до двух знаков, получив процент невозврата \n",
    "# кредитов по группе с точностью до сотых процента.  \n",
    "goal_stat['debt'] = round(goal_stat['debt'] * 100, ndigits=2)\n",
    "\n",
    "print('Процент невозвратов кредитов в зависимости от целей получения кредита: \\n')\n",
    "print(goal_stat)\n",
    "print(separator)\n",
    "print()\n",
    "\n",
    "print('Построим диаграмму по категриям:')\n",
    "ax = seaborn.barplot (data=goal_stat, y='purpose_category', x='debt')\n",
    "\n",
    "ax.set(xlabel='Процент просрочек',\n",
    "       ylabel='',\n",
    "       title='Процент просрочек в зависимости от цели получения кредита \\n')\n",
    "\n",
    "plt.draw()"
   ]
  },
  {
   "cell_type": "markdown",
   "id": "b4bb2ce6",
   "metadata": {
    "deletable": false,
    "id": "b4bb2ce6"
   },
   "source": [
    "**Вывод:** :\n",
    "В данном случае все просто - две группы явных неплательщиков: приобретатели автомобиля и получающие образование. Можно предположить, что данные группы целей подвержены рискам по следующим причинам:\n",
    "* автомобиль в РФ является предметом престижного потребления и, зачастую, клиенты приобретают автомобили из более высокой ценовой категории, нежели та, что они могут себе позволить. При этом, стоимость обслуживания такого автомобиля оказывается сопоставимой с суммой платежей по кредиту (страхование, ТО, потребление топлива и т. д.), что влечет за собой повышенную нагрузку на бюджет плательщика. \n",
    "* кредит на образование берется либо для получения первого образования, либо тогда, когда текущий уровень дохода или профессия прекращают удовлетворять клиента и он ищет пути для изменения жизненных обстоятельств. \n",
    "\n",
    "И в том и в другом случае финансовое положение заемщика представляется несколько неустойчивым.\n",
    "\n",
    "Приобретатели недвижимости являются **наиболее обязательными** плательщиками. Интересно было бы дополнительно категоризировать данные для того, чтобы выяснить, в равной степени ли надежными плательщиками являются приобретатели недвижимости в личных и коммерческих целях. Однако, представленные данные не дают возможности однозначно категоризировать их по этому признаку - есть назначения такие, как \"операции с жилой недвижимостью\" и т. п., которые нельзя отнести с уверенностью к потребительскому либо коммерческому сектору.   "
   ]
  },
  {
   "cell_type": "markdown",
   "id": "abf89667",
   "metadata": {},
   "source": [
    "<div class=\"alert alert-success\">\n",
    "<b>✔️ Комментарий ревьюера v1:</b>\n",
    "<br>Абсолютно верно!\n",
    "</div>"
   ]
  },
  {
   "cell_type": "markdown",
   "id": "09c3ac4c",
   "metadata": {
    "deletable": false,
    "editable": false,
    "id": "09c3ac4c"
   },
   "source": [
    "**Задание 23. Приведите возможные причины появления пропусков в исходных данных.**"
   ]
  },
  {
   "cell_type": "markdown",
   "id": "37cc5997",
   "metadata": {},
   "source": [
    "### Возможные причины появления пропусков в исходных данных"
   ]
  },
  {
   "cell_type": "markdown",
   "id": "9da2ceda",
   "metadata": {
    "deletable": false,
    "id": "9da2ceda"
   },
   "source": [
    "*Ответ:*\n",
    "\n",
    "Для того чтобы понять, как правильно обработать пропуски, необходимо определить механизмы их формирования. Различают следующие 3 механизма формирования пропусков: MCAR, MAR, MNAR:\n",
    "\n",
    "* MCAR (Missing Completely At Random) — механизм формирования пропусков, при котором вероятность пропуска для каждой записи набора одинакова. Например, если проводился социологический опрос, в котором каждому десятому респонденту один случайно выбранный вопрос не задавался, причем на все остальные заданные вопросы респонденты отвечали, то имеет место механизм MCAR. В таком случае игнорирование/исключение записей, содержащих пропущенные данные, не ведет к искажению результатов.\n",
    "* MAR (Missing At Random) — на практике данные обычно пропущены не случайно, а ввиду некоторых закономерностей. Пропуски относят к MAR, если вероятность пропуска может быть определена на основе другой имеющейся в наборе данных информации (пол, возраст, занимаемая должность, образование…), не содержащей пропуски. В таком случае удаление или замена пропусков на значение «Пропуск», как и в случае MCAR, не приведет к существенному искажению результатов.\n",
    "* MNAR (Missing Not At Random) — механизм формирования пропусков, при котором данные отсутствуют в зависимости от неизвестных факторов. MNAR предполагает, что вероятность пропуска могла бы быть описана на основе других атрибутов, но информация по этим атрибутам в наборе данных отсутствует. Как следствие, вероятность пропуска невозможно выразить на основе информации, содержащейся в наборе данных.\n",
    "\n",
    "Рассмотрим различия между механизмами MAR и MNAR на примере.\n",
    "\n",
    "Люди, занимающие руководящие должности и/или получившие образование в престижном вузе чаще, чем другие респонденты, не отвечают на вопрос о своих доходах. Поскольку занимаемая должность и образование сильно коррелируют с доходами, то в таком случае пропуски в поле доходы уже нельзя считать совершенно случайными, то есть говорить о случае MCAR не представляется возможным.\n",
    "\n",
    "Если в наборе данных есть информация об образовании и должности респондентов, то зависимость между повышенной вероятностью пропуска в графе доходов и этой информацией может быть выражена математически, следовательно, выполняется гипотеза MAR. В случае MAR исключение пропусков вполне приемлемо.\n",
    "\n",
    "Однако если информация о занимаемой должности и образовании у нас отсутствует, то тогда имеет место случай MNAR. При MNAR просто игнорировать или исключить пропуски уже нельзя, так как это приведет к значительному искажению распределения статистических свойств выборки.\n",
    "\n",
    "**Источник:** [Обработка пропусков данных](https://loginom.ru/blog/missing), loginom.ru"
   ]
  },
  {
   "cell_type": "markdown",
   "id": "8aff5b88",
   "metadata": {},
   "source": [
    "<div class=\"alert alert-success\">\n",
    "<b>✔️ Комментарий ревьюера v1:</b>\n",
    "<br>Супер, отлично, что используешь дополнительные источники!\n",
    "</div>"
   ]
  },
  {
   "cell_type": "markdown",
   "id": "7b0487d6",
   "metadata": {
    "deletable": false,
    "editable": false,
    "id": "7b0487d6"
   },
   "source": [
    "**Задание 24. Объясните, почему заполнить пропуски медианным значением — лучшее решение для количественных переменных.**"
   ]
  },
  {
   "cell_type": "markdown",
   "id": "08e201eb",
   "metadata": {},
   "source": [
    "### Медианное значение для пропусков"
   ]
  },
  {
   "cell_type": "markdown",
   "id": "7ecf2b8e",
   "metadata": {
    "deletable": false,
    "id": "7ecf2b8e"
   },
   "source": [
    "*Ответ:*\n",
    "\n",
    "Медианное значение менее склонно реагировать на выбросы значений в данных. Прочие методы, такие как удаление или игнорирование пропусков в данных, заполнение предыдущим значением и проч. являются еще менее точными и надежными. \n",
    "\n",
    "Существует точка зрения, что наиболее надежным способом заполнения пропусков в данных является регрессионный метод - метод заполнения на основе эмпирически выведенной формулы, но он не всегда применим, особенно в условиях большого количества пропусков или возникновения неслучайных пропусков в данных. "
   ]
  },
  {
   "cell_type": "markdown",
   "id": "6db5255a",
   "metadata": {
    "deletable": false,
    "editable": false,
    "id": "6db5255a"
   },
   "source": [
    "## Общий вывод."
   ]
  },
  {
   "cell_type": "markdown",
   "id": "bad65432",
   "metadata": {
    "id": "bad65432"
   },
   "source": [
    "В итоге проведенного исследования можно вывести некоторые закономерности. Наиболее надежными плательщиками являются заемщики, состоящие (или состоявшие) в официальных отношений, без детей с высоким доходом, приобретающие недвижимое имущество.\n",
    "\n",
    "Дополнительно можно указать на следующие факты:\n",
    "* заемщики, берущие кредит на свадьбу являются более надежными, чем берущие кредит на образование или приобретение автомобиля;\n",
    "* кредит на приобретение автомобиля выданный холостому заемщику с зарплатой в диапазоне от 100 т. р. до 200 т. р. является одним из наиболее рискованных;\n",
    "* среди заемщиков с небольшим размером дохода процент просрочки так же достаточно низкий, но при достижении нижней границы дохода (менее 30 т. р.) процент просрочки резко возрастает."
   ]
  },
  {
   "cell_type": "markdown",
   "id": "7762db49",
   "metadata": {},
   "source": [
    "<div style=\"border:solid lightblue 3px; padding: 20px\">\n",
    "<b>Общий комментарий ревьюера:</b>\n",
    "\n",
    "У тебя хорошая  работа. Каждый заголовок выделен, каждое рассуждение выделено, каждый пункт выделен. Хочется отметить так же упорядоченность и последовательность действий, нет скачков от одних пунктов к другим.\n",
    "    \n",
    "Из рекомендаций прошу выводить полученные значения после выполнения твоих действий. Так проще проверять будет тебе свою работу и проверяющему :)\n",
    "\n",
    "В остальном все очень хорошо. Проект принимаю, успехов в дальнейшем!😊\n",
    "</div>"
   ]
  }
 ],
 "metadata": {
  "ExecuteTimeLog": [
   {
    "duration": 67,
    "start_time": "2022-06-09T10:53:31.164Z"
   },
   {
    "duration": 670,
    "start_time": "2022-06-09T10:53:42.338Z"
   },
   {
    "duration": 32,
    "start_time": "2022-06-09T10:53:43.011Z"
   },
   {
    "duration": 22,
    "start_time": "2022-06-09T10:53:43.046Z"
   },
   {
    "duration": 15,
    "start_time": "2022-06-09T10:53:43.070Z"
   },
   {
    "duration": 76,
    "start_time": "2022-06-09T10:53:43.087Z"
   },
   {
    "duration": 5,
    "start_time": "2022-06-09T10:53:43.165Z"
   },
   {
    "duration": 10,
    "start_time": "2022-06-09T10:53:50.371Z"
   },
   {
    "duration": 51,
    "start_time": "2022-06-09T10:58:31.254Z"
   },
   {
    "duration": 601,
    "start_time": "2022-06-09T10:58:41.455Z"
   },
   {
    "duration": 21,
    "start_time": "2022-06-09T10:58:42.059Z"
   },
   {
    "duration": 15,
    "start_time": "2022-06-09T10:58:42.081Z"
   },
   {
    "duration": 9,
    "start_time": "2022-06-09T10:58:42.098Z"
   },
   {
    "duration": 61,
    "start_time": "2022-06-09T10:58:42.109Z"
   },
   {
    "duration": 3,
    "start_time": "2022-06-09T10:58:42.172Z"
   },
   {
    "duration": 14,
    "start_time": "2022-06-09T10:58:42.177Z"
   },
   {
    "duration": 5,
    "start_time": "2022-06-09T10:58:42.193Z"
   },
   {
    "duration": 29,
    "start_time": "2022-06-09T10:58:42.199Z"
   },
   {
    "duration": 16,
    "start_time": "2022-06-09T10:58:42.232Z"
   },
   {
    "duration": 38,
    "start_time": "2022-06-09T10:58:42.250Z"
   },
   {
    "duration": 10,
    "start_time": "2022-06-09T10:58:42.290Z"
   },
   {
    "duration": 6,
    "start_time": "2022-06-09T10:58:42.302Z"
   },
   {
    "duration": 44,
    "start_time": "2022-06-09T10:58:42.309Z"
   },
   {
    "duration": 17,
    "start_time": "2022-06-09T10:58:42.354Z"
   },
   {
    "duration": 11,
    "start_time": "2022-06-09T10:58:42.372Z"
   },
   {
    "duration": 8,
    "start_time": "2022-06-09T10:58:42.384Z"
   },
   {
    "duration": 15,
    "start_time": "2022-06-09T10:58:42.394Z"
   },
   {
    "duration": 22,
    "start_time": "2022-06-09T10:58:42.410Z"
   },
   {
    "duration": 5,
    "start_time": "2022-06-09T10:58:42.436Z"
   },
   {
    "duration": 16,
    "start_time": "2022-06-09T10:58:42.443Z"
   },
   {
    "duration": 1231,
    "start_time": "2022-06-09T10:58:42.461Z"
   },
   {
    "duration": 6,
    "start_time": "2022-06-09T10:58:43.693Z"
   },
   {
    "duration": 227,
    "start_time": "2022-06-09T10:58:43.701Z"
   },
   {
    "duration": 249,
    "start_time": "2022-06-09T10:58:43.930Z"
   },
   {
    "duration": 14,
    "start_time": "2022-06-09T10:58:44.180Z"
   },
   {
    "duration": 4,
    "start_time": "2022-06-09T10:58:44.196Z"
   },
   {
    "duration": 29,
    "start_time": "2022-06-09T10:58:44.203Z"
   },
   {
    "duration": 239,
    "start_time": "2022-06-09T10:58:44.235Z"
   },
   {
    "duration": 306,
    "start_time": "2022-06-09T10:58:44.476Z"
   },
   {
    "duration": 14,
    "start_time": "2022-06-09T10:58:44.785Z"
   },
   {
    "duration": 54,
    "start_time": "2022-06-09T10:58:44.801Z"
   },
   {
    "duration": 301,
    "start_time": "2022-06-09T10:58:44.857Z"
   },
   {
    "duration": 57,
    "start_time": "2022-06-09T10:58:45.160Z"
   },
   {
    "duration": 480,
    "start_time": "2022-06-09T10:58:45.219Z"
   },
   {
    "duration": 305,
    "start_time": "2022-06-09T10:58:45.701Z"
   },
   {
    "duration": 289,
    "start_time": "2022-06-09T10:59:11.184Z"
   },
   {
    "duration": 297,
    "start_time": "2022-06-09T10:59:44.850Z"
   }
  ],
  "colab": {
   "name": "dpp_template_part2.ipynb",
   "provenance": []
  },
  "kernelspec": {
   "display_name": "Python 3 (ipykernel)",
   "language": "python",
   "name": "python3"
  },
  "language_info": {
   "codemirror_mode": {
    "name": "ipython",
    "version": 3
   },
   "file_extension": ".py",
   "mimetype": "text/x-python",
   "name": "python",
   "nbconvert_exporter": "python",
   "pygments_lexer": "ipython3",
   "version": "3.9.12"
  },
  "toc": {
   "base_numbering": 1,
   "nav_menu": {},
   "number_sections": true,
   "sideBar": true,
   "skip_h1_title": true,
   "title_cell": "Table of Contents",
   "title_sidebar": "Contents",
   "toc_cell": false,
   "toc_position": {
    "height": "calc(100% - 180px)",
    "left": "10px",
    "top": "150px",
    "width": "189px"
   },
   "toc_section_display": true,
   "toc_window_display": true
  },
  "varInspector": {
   "cols": {
    "lenName": 16,
    "lenType": 16,
    "lenVar": 40
   },
   "kernels_config": {
    "python": {
     "delete_cmd_postfix": "",
     "delete_cmd_prefix": "del ",
     "library": "var_list.py",
     "varRefreshCmd": "print(var_dic_list())"
    },
    "r": {
     "delete_cmd_postfix": ") ",
     "delete_cmd_prefix": "rm(",
     "library": "var_list.r",
     "varRefreshCmd": "cat(var_dic_list()) "
    }
   },
   "types_to_exclude": [
    "module",
    "function",
    "builtin_function_or_method",
    "instance",
    "_Feature"
   ],
   "window_display": false
  },
  "vscode": {
   "interpreter": {
    "hash": "2181f9dd82d81c8caedf63c9f9b3e4f3c6cd52ed1e23a294a57d756a08f50191"
   }
  }
 },
 "nbformat": 4,
 "nbformat_minor": 5
}
